{
 "cells": [
  {
   "cell_type": "markdown",
   "id": "4e716705",
   "metadata": {},
   "source": [
    "# Deep Learning Q&A Notebook\n",
    "This notebook contains theory questions, answers, and coding exercises on Deep Learning."
   ]
  },
  {
   "cell_type": "markdown",
   "id": "0486b8a7",
   "metadata": {},
   "source": [
    "## Q1: What is Deep Learning?\n",
    "\n",
    "**Answer:** Deep Learning is a subset of Machine Learning that uses multi-layered neural networks to automatically learn hierarchical representations of data. It is widely used in computer vision, NLP, speech recognition, and generative AI."
   ]
  },
  {
   "cell_type": "markdown",
   "id": "b60b4c55",
   "metadata": {},
   "source": [
    "## Q2: Difference between Machine Learning and Deep Learning?\n",
    "\n",
    "**Answer:**\n",
    "- **Machine Learning** requires manual feature extraction, often using simpler models (e.g., decision trees, SVMs).\n",
    "- **Deep Learning** automatically extracts features using neural networks, often with many hidden layers."
   ]
  },
  {
   "cell_type": "markdown",
   "id": "ac29f171",
   "metadata": {},
   "source": [
    "## Q3: What is an Artificial Neural Network (ANN)?\n",
    "\n",
    "**Answer:** An ANN is a computational model inspired by biological neurons. It consists of layers of nodes (neurons), where each connection has a weight. Training adjusts the weights to minimize error."
   ]
  },
  {
   "cell_type": "code",
   "execution_count": null,
   "id": "1040a66e",
   "metadata": {},
   "outputs": [],
   "source": [
    "\n",
    "# Example: A simple neural network in PyTorch\n",
    "import torch\n",
    "import torch.nn as nn\n",
    "import torch.optim as optim\n",
    "\n",
    "# Define a simple feedforward network\n",
    "class SimpleNN(nn.Module):\n",
    "    def __init__(self):\n",
    "        super(SimpleNN, self).__init__()\n",
    "        self.fc1 = nn.Linear(2, 4)\n",
    "        self.relu = nn.ReLU()\n",
    "        self.fc2 = nn.Linear(4, 1)\n",
    "        self.sigmoid = nn.Sigmoid()\n",
    "\n",
    "    def forward(self, x):\n",
    "        x = self.relu(self.fc1(x))\n",
    "        x = self.sigmoid(self.fc2(x))\n",
    "        return x\n",
    "\n",
    "# Instantiate model\n",
    "model = SimpleNN()\n",
    "print(model)\n"
   ]
  },
  {
   "cell_type": "markdown",
   "id": "ec068a8e",
   "metadata": {},
   "source": [
    "## Q4: What is a Convolutional Neural Network (CNN)?\n",
    "\n",
    "**Answer:** A CNN is a specialized neural network for processing grid-like data (e.g., images). It uses convolutional layers to automatically learn spatial features, pooling layers for downsampling, and fully connected layers for classification."
   ]
  },
  {
   "cell_type": "markdown",
   "id": "89e11be3",
   "metadata": {},
   "source": [
    "## Q5: What is a Recurrent Neural Network (RNN)?\n",
    "\n",
    "**Answer:** RNNs are designed for sequential data (e.g., text, speech). They maintain a hidden state that captures dependencies across time steps. Variants include LSTMs and GRUs."
   ]
  },
  {
   "cell_type": "code",
   "execution_count": null,
   "id": "dd897e90",
   "metadata": {},
   "outputs": [],
   "source": [
    "\n",
    "# Example: Using a simple tensor computation in PyTorch\n",
    "x = torch.tensor([[1.0, 2.0], [3.0, 4.0]])\n",
    "w = torch.tensor([[0.5], [0.25]])\n",
    "y = torch.matmul(x, w)\n",
    "print(\"Input:\", x)\n",
    "print(\"Weights:\", w)\n",
    "print(\"Output:\", y)\n"
   ]
  }
 ],
 "metadata": {},
 "nbformat": 4,
 "nbformat_minor": 5
}
