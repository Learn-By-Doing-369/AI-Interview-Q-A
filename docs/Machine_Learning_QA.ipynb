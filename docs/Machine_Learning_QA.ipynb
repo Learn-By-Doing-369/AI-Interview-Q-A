{
 "cells": [
  {
   "cell_type": "markdown",
   "id": "4452b865",
   "metadata": {},
   "source": [
    "# Machine Learning Q&A Notebook\n",
    "This notebook contains theory questions, answers, and coding exercises on Machine Learning."
   ]
  },
  {
   "cell_type": "markdown",
   "id": "c85e45b5",
   "metadata": {},
   "source": [
    "## Q1: What is Machine Learning?\n",
    "\n",
    "**Answer:** Machine Learning is a subset of AI that allows systems to learn patterns from data and improve performance without being explicitly programmed."
   ]
  },
  {
   "cell_type": "markdown",
   "id": "0b502fce",
   "metadata": {},
   "source": [
    "## Q2: Types of Machine Learning?\n",
    "\n",
    "**Answer:**\n",
    "- **Supervised Learning**: Trains on labeled data (e.g., regression, classification).\n",
    "- **Unsupervised Learning**: Finds hidden patterns in unlabeled data (e.g., clustering, dimensionality reduction).\n",
    "- **Reinforcement Learning**: Learns by interacting with an environment and receiving rewards/penalties."
   ]
  },
  {
   "cell_type": "markdown",
   "id": "8ec403b1",
   "metadata": {},
   "source": [
    "## Q3: What is Overfitting?\n",
    "\n",
    "**Answer:** Overfitting happens when a model learns the training data too well, including noise, and fails to generalize to unseen data. Solutions include regularization, dropout, and cross-validation."
   ]
  },
  {
   "cell_type": "markdown",
   "id": "285d6759",
   "metadata": {},
   "source": [
    "## Q4: Common Evaluation Metrics?\n",
    "\n",
    "**Answer:**\n",
    "- **Classification**: Accuracy, Precision, Recall, F1-score, ROC-AUC.\n",
    "- **Regression**: Mean Squared Error (MSE), Mean Absolute Error (MAE), R² Score."
   ]
  },
  {
   "cell_type": "code",
   "execution_count": null,
   "id": "f0549701",
   "metadata": {},
   "outputs": [],
   "source": [
    "\n",
    "# Example: Linear Regression with scikit-learn\n",
    "import numpy as np\n",
    "from sklearn.linear_model import LinearRegression\n",
    "\n",
    "# Data (hours studied vs. score)\n",
    "X = np.array([[1], [2], [3], [4], [5]])\n",
    "y = np.array([10, 20, 30, 40, 50])\n",
    "\n",
    "# Train model\n",
    "model = LinearRegression()\n",
    "model.fit(X, y)\n",
    "\n",
    "# Predict\n",
    "print(\"Coefficient:\", model.coef_)\n",
    "print(\"Intercept:\", model.intercept_)\n",
    "print(\"Prediction for 6 hours:\", model.predict([[6]])[0])\n"
   ]
  },
  {
   "cell_type": "code",
   "execution_count": null,
   "id": "aeee0b15",
   "metadata": {},
   "outputs": [],
   "source": [
    "\n",
    "# Example: Classification with scikit-learn (Logistic Regression)\n",
    "from sklearn.datasets import load_iris\n",
    "from sklearn.linear_model import LogisticRegression\n",
    "from sklearn.model_selection import train_test_split\n",
    "from sklearn.metrics import accuracy_score\n",
    "\n",
    "# Load data\n",
    "iris = load_iris()\n",
    "X, y = iris.data, iris.target\n",
    "\n",
    "# Split\n",
    "X_train, X_test, y_train, y_test = train_test_split(X, y, test_size=0.2, random_state=42)\n",
    "\n",
    "# Train model\n",
    "clf = LogisticRegression(max_iter=200)\n",
    "clf.fit(X_train, y_train)\n",
    "\n",
    "# Evaluate\n",
    "y_pred = clf.predict(X_test)\n",
    "print(\"Accuracy:\", accuracy_score(y_test, y_pred))\n"
   ]
  }
 ],
 "metadata": {
  "kernelspec": {
   "display_name": "Python [conda env:base] *",
   "language": "python",
   "name": "conda-base-py"
  },
  "language_info": {
   "codemirror_mode": {
    "name": "ipython",
    "version": 3
   },
   "file_extension": ".py",
   "mimetype": "text/x-python",
   "name": "python",
   "nbconvert_exporter": "python",
   "pygments_lexer": "ipython3",
   "version": "3.12.7"
  }
 },
 "nbformat": 4,
 "nbformat_minor": 5
}
